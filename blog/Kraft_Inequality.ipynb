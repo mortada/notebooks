{
 "cells": [
  {
   "cell_type": "markdown",
   "metadata": {},
   "source": [
    "In graduate school I came up with an original proof for [Kraft's inequality](http://en.wikipedia.org/wiki/Kraft%27s_inequality). The proofs I could find in textbooks tend to be more complicated and less intutive to me, and so I'd like to share my proof here."
   ]
  },
  {
   "cell_type": "markdown",
   "metadata": {},
   "source": [
    "## Prefix Codes"
   ]
  },
  {
   "cell_type": "markdown",
   "metadata": {},
   "source": [
    "First it is important to understand the concept of [prefix codes](http://en.wikipedia.org/wiki/Prefix_code). Prefix codes have nice properties and are widely used in applications such as JPEG encoding for images and MP3 for music. A prefix code is such that no codeword is a prefix of any other codewords. For instance, suppose we'd like to encode the letters $\\{a, b, c, d\\}$ in binaries, i.e. using $\\{0, 1\\}$. Then one possible coding scheme is as follows:"
   ]
  },
  {
   "cell_type": "markdown",
   "metadata": {},
   "source": [
    "\\begin{equation}\n",
    "\\left\\{\n",
    "\\begin{aligned}\n",
    "    a & \\rightarrow 0 \\\\\n",
    "    b & \\rightarrow 01 \\\\\n",
    "    c & \\rightarrow 011 \\\\\n",
    "    d & \\rightarrow 0111 \\\\\n",
    "\\end{aligned}\n",
    "\\right.\n",
    "\\end{equation}\n",
    "\n",
    "This is uniquely decodable but it is not a prefix code because the codeword for $a$ is a prefix for the codeword for $b$. This means that we can not instantaneously decode $a$ without waiting for the next bit of data (to determine whether it is actually $a$ or just the first half of $b$.)"
   ]
  },
  {
   "cell_type": "markdown",
   "metadata": {},
   "source": [
    "Alternatively, we can encode using a prefix code as folows:\n",
    "\n",
    "\\begin{equation}\n",
    "\\left\\{\n",
    "\\begin{aligned}\n",
    "    a & \\rightarrow 0 \\\\\n",
    "    b & \\rightarrow 10 \\\\\n",
    "    c & \\rightarrow 110 \\\\\n",
    "    d & \\rightarrow 111 \\\\\n",
    "\\end{aligned}\n",
    "\\right.\n",
    "\\end{equation}\n",
    "\n",
    "As you can see no codeword is a prefix of another codeword. Naturally we'd like to know how to construct prefix codes efficiently, and what are the fundamental constraints on the lengths of the codewords."
   ]
  },
  {
   "cell_type": "markdown",
   "metadata": {},
   "source": [
    "## Kraft's Inequality"
   ]
  },
  {
   "cell_type": "markdown",
   "metadata": {},
   "source": [
    "Kraft's inequality states that given a list of positive integers $(n_1, n_2, \\dots n_r)$, there exists a prefix code with a set of codewords $(\\sigma_1, \\sigma_2, \\dots \\sigma_r)$ where the length of each codeword $|\\sigma_i| = n_i, \\forall i$, if and only if\n",
    "\n",
    "\\begin{equation}\n",
    "    \\sum_{i=1}^{r} s^{-n_i} \\leq 1\n",
    "\\end{equation}\n",
    "\n",
    "where $s$ is the size of the alphabet $S$. "
   ]
  },
  {
   "cell_type": "markdown",
   "metadata": {},
   "source": [
    "In our previous example, the alphabet is simply the binary digits $S = \\{0, 1\\}$, and therefore the size of the alphabet $s = 2$. We can easily check that indeed the inequality holds:\n",
    "\n",
    "\\begin{equation}\n",
    "    2^{-1} + 2^{-2} + 2^{-3} + 2^{-3} \\leq 1 \n",
    "\\end{equation}"
   ]
  },
  {
   "cell_type": "markdown",
   "metadata": {},
   "source": [
    "## Simple Proof"
   ]
  },
  {
   "cell_type": "markdown",
   "metadata": {},
   "source": [
    "First of all without loss of generality we can order $n_i$ so that\n",
    "\n",
    "\\begin{equation}\n",
    "    n_1 \\leq n_2 \\leq \\dots \\leq n_r  \n",
    "\\end{equation}\n",
    "\n",
    "Now we try to construct a prefix code in increasing order, i.e., $i = 1, 2, \\dots r$. There exists a prefix code if and only if at each step $j$, there is at least one codeword to choose that does not contain any of the previous $j - 1$ codewords as a prefix. In other words, the codeword $\\sigma_j$ must not contain any of the previous codewords $(\\sigma_1, \\sigma_2, \\dots \\sigma_{j-1})$ as a prefix. For $\\sigma_j$, there are $s^{n_j}$ combination of codewords we could choose from if there was no prefix constraints. But due to the codeword at a prior step $k < j$, $s^{n_j - n_k}$ codewords are now forbidden because they contain $\\sigma_k$ as a prefix. Furthermore, the sets of forbidden codewords due to different prior steps are exclusive. Since if any two prior steps forbid the same codeword at step $j$, that would imply the smaller of the codewords in the two prior steps is a prefix of the other one, which contradicts the prefix assumption.\n",
    "\n",
    "Therefore we know the total number of forbidden codewords at step $j$ is\n",
    "\n",
    "\\begin{equation}\n",
    "    \\sum_{i=1}^{j-1} s^{n_j - n_i}\n",
    "\\end{equation}\n",
    "\n",
    "There exists a prefix code if and only if we have a codeword to choose at every step, namely,\n",
    "\n",
    "\\begin{equation}\n",
    "    s^{n_j} > \\sum_{i=1}^{j-1} s^{n_j - n_i}, \\forall j = 2, 3, \\dots r\n",
    "\\end{equation}\n",
    "\n",
    "Since every term above is an integer, this is equivalent to\n",
    "\n",
    "\\begin{equation}\n",
    "    s^{n_j} \\geq \\sum_{i=1}^{j-1} s^{n_j - n_i} + 1 = \\sum_{i=1}^{j} s^{n_j - n_i}, \\forall j = 1, 2, \\dots r\n",
    "\\end{equation}\n",
    "\n",
    "Now divide by $s^{n_j}$ on both sides we get\n",
    "\n",
    "\\begin{equation}\n",
    "    1 \\geq \\sum_{i=1}^{j} s^{- n_i}, \\forall j = 1, 2, \\dots r\n",
    "\\end{equation}\n",
    "\n",
    "Now since every term above is non-negative, this is equivalent to Kraft's inequality\n",
    "\n",
    "\\begin{equation}\n",
    "    \\sum_{i=1}^{r} s^{- n_i} \\leq 1\n",
    "\\end{equation}\n",
    "\n",
    "Notice that every argument in the proof goes both ways. Thus this proves that Kraft's inequality is both a necessary and sufficient condition for the existance of a prefix code."
   ]
  },
  {
   "cell_type": "markdown",
   "metadata": {},
   "source": [
    "## McMillian Inequality"
   ]
  },
  {
   "cell_type": "markdown",
   "metadata": {},
   "source": [
    "Interestingly, Kraft's inequality can be shown to hold for all uniquely decodable codes, not just prefix codes. This result is also known as the Kraft-McMillian inequality. To see that, consider a sequence of $k$ codewords from any uniquely decodable code. For instance, for a uniquely decodable code\n",
    "\n",
    "\\begin{equation}\n",
    "\\left\\{\n",
    "\\begin{aligned}\n",
    "    a & \\rightarrow 0 \\\\\n",
    "    b & \\rightarrow 01 \\\\\n",
    "    c & \\rightarrow 011 \\\\\n",
    "\\end{aligned}\n",
    "\\right.\n",
    "\\end{equation}\n",
    "\n",
    "all possible sequences of $k$ codewords for $k = 2$ would be\n",
    "\n",
    "\\begin{equation}\n",
    "\\left\\{\n",
    "\\begin{aligned}\n",
    "    aa & \\rightarrow 00 \\\\\n",
    "    ab & \\rightarrow 001 \\\\\n",
    "    ac & \\rightarrow 0011 \\\\\n",
    "    ba & \\rightarrow 010 \\\\\n",
    "    bb & \\rightarrow 0101 \\\\\n",
    "    bc & \\rightarrow 01011 \\\\\n",
    "    ca & \\rightarrow 0110 \\\\\n",
    "    cb & \\rightarrow 01101 \\\\\n",
    "    cc & \\rightarrow 011011 \\\\\n",
    "\\end{aligned}\n",
    "\\right.\n",
    "\\end{equation}\n",
    "\n",
    "Now consider the following expression\n",
    "\n",
    "\\begin{equation}\n",
    "    \\left(\\sum_{i=1}^{r} s^{- n_i}\\right)^k\n",
    "\\end{equation}\n",
    "\n",
    "This is equivalent to\n",
    "\n",
    "\\begin{equation}\n",
    "    \\sum_{j=k \\cdot n_1}^{k \\cdot n_r} C_j s^{-j}\n",
    "\\end{equation}\n",
    "\n",
    "where $C_j$ is the number of combinations of $k$ codewords that have a total length of $j$. We can see that $j$ must be at least $k \\cdot n_1$ and at most $k \\cdot n_r$. Since there is only $s^j$ number of unique sequences with a length of $j$, in order for this code to be uniquely decodable, we must have\n",
    "\n",
    "\\begin{equation}\n",
    "    C_j \\leq s^j\n",
    "\\end{equation}\n",
    "\n",
    "Therefore we now have\n",
    "\n",
    "\\begin{aligned}\n",
    "    \\left(\\sum_{i=1}^{r} s^{- n_i}\\right)^k & = & \\sum_{j=k \\cdot n_1}^{k \\cdot n_r} C_j s^{-j} \\\\\n",
    "                                            & \\leq & \\sum_{j=k \\cdot n_1}^{k \\cdot n_r} s^j s^{-j} \\\\\n",
    "                                            & = & k (n_r - n_1) + 1\n",
    "\\end{aligned}\n",
    "\n",
    "which means\n",
    "\n",
    "\\begin{aligned}\n",
    "    \\sum_{i=1}^{r} s^{- n_i} \\leq \\left(k (n_r - n_1) + 1\\right)^{1/k}\n",
    "\\end{aligned}\n",
    "\n",
    "Since this is true for any $k$, we can let $k$ go to infinity and see that we must satifiy Kraft's inequality. \n"
   ]
  },
  {
   "cell_type": "markdown",
   "metadata": {},
   "source": [
    "## Shannon Entropy"
   ]
  },
  {
   "cell_type": "markdown",
   "metadata": {},
   "source": [
    "Kraft's inequality can be used to show that any uniquely decodable code must have an expected length larger than or equal to the [Shannon Entropy](http://en.wiktionary.org/wiki/Shannon_entropy). If the codeword $\\sigma_i$ occurs with probability $p_i$, then the Shannon Entropy is given by\n",
    "\n",
    "\\begin{equation}\n",
    "    \\sum_{i=1}^{r} p_i \\log_s \\frac{1}{p_i} \n",
    "\\end{equation}\n",
    "\n",
    "To see that the expected code length has to be bound by the Shannon entropy, consider the difference between the Shannon entropy and the expected length of the code: \n",
    "\n",
    "\\begin{aligned}\n",
    "    \\sum_{i=1}^{r} p_i \\log_s \\frac{1}{p_i} - \\sum_{i=1}^{r} p_i n_i = & \\sum_{i=1}^{r} p_i \\log_s \\frac{s^{-n_i}}{p_i} \\\\\n",
    "    \\leq & \\ \\log_s \\left( \\sum_{i=1}^{r} p_i \\frac{s^{-n_i}}{p_i} \\right) \\\\\n",
    "    = & \\ \\log_s \\left( \\sum_{i=1}^{r} s^{-n_i} \\right) \\\\\n",
    "    \\leq & \\ \\log_s 1 = 0 \\\\\n",
    "\\end{aligned}\n",
    "\n",
    "where we simply use the fact that $\\log_s$ is a concave function and apply Kraft's inequality."
   ]
  }
 ],
 "metadata": {
  "anaconda-cloud": {},
  "kernelspec": {
   "display_name": "Python [Root]",
   "language": "python",
   "name": "Python [Root]"
  },
  "language_info": {
   "codemirror_mode": {
    "name": "ipython",
    "version": 3
   },
   "file_extension": ".py",
   "mimetype": "text/x-python",
   "name": "python",
   "nbconvert_exporter": "python",
   "pygments_lexer": "ipython3",
   "version": "3.5.2"
  }
 },
 "nbformat": 4,
 "nbformat_minor": 1
}
